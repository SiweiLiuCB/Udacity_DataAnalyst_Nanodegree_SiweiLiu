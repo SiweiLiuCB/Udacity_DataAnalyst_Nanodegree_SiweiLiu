{
 "cells": [
  {
   "cell_type": "markdown",
   "metadata": {},
   "source": [
    "# <center>Act Report</center>\n",
    "<center>By Siwei Liu</center>\n",
    "<center>Date: June 4th, 2018</center>"
   ]
  },
  {
   "cell_type": "markdown",
   "metadata": {},
   "source": [
    "After having the final cleaned data frame, the first thing that I was interested in this data set was about the rating. What is the mean rating of dogs? What is the highest rating? And who is the dog that got the highest rating? I used '.describe()' on the 'rating_numerator' column, and found that the mean rating of dogs is 11.73 and 75% of dog ratings are above 12. The highest rating is a bit surprising, it's 1776! That is way bigger than most of the ratings. My curiosity drove me to explore who got this rating and what is going on. So I picked the tweet and after having a look at its text and its picture, I suddenly realized why it was rated 1776."
   ]
  },
  {
   "cell_type": "markdown",
   "metadata": {},
   "source": [
    "![Image of Dog](https://pbs.twimg.com/media/CmgBZ7kWcAAlzFD.jpg)"
   ]
  },
  {
   "cell_type": "markdown",
   "metadata": {},
   "source": [
    "The tweet text of the above picture is 'This is Atticus. He's quite simply American af. 1776/10'. American flag, American flag style decoration, and 1776! 1776 was the year that the United States of America emerged as an independent country! That is why Atticus got such an first-sight-abnormal rating!  "
   ]
  },
  {
   "cell_type": "markdown",
   "metadata": {},
   "source": [
    "Secondly, I was wondering if there is a correlation between *retweet_count* and *favorite_count*, since it seems to me an intuition that tweets which have more retweets means they are popular and thus should have relatively more favarites."
   ]
  },
  {
   "cell_type": "markdown",
   "metadata": {},
   "source": [
    "![title](https://s22.postimg.cc/fngak625d/cor1.png)"
   ]
  },
  {
   "cell_type": "markdown",
   "metadata": {},
   "source": [
    "If we zoom in a little bit:"
   ]
  },
  {
   "cell_type": "markdown",
   "metadata": {},
   "source": [
    "![title](https://s22.postimg.cc/5ddvl521t/cor2.png)"
   ]
  },
  {
   "cell_type": "markdown",
   "metadata": {},
   "source": [
    "From the picture, it seems that there is a strong positive correaltion between retweets and favorites. I also calculated the correlation coefficient to make sure that the strong correlation does exist. I used Numpy's 'corrcoef' function and the result shows that the correlation between retweet and favorite is 0.917, which is a pretty strong positive correlation. So the analysis proved my guess, tweets which have more retweets generally have more favorite."
   ]
  },
  {
   "cell_type": "markdown",
   "metadata": {},
   "source": [
    "Finally, I used '.value_counts()' to figure out what is the most popular dog name on WeRateDogs. And got the name 'Charlie'."
   ]
  }
 ],
 "metadata": {
  "kernelspec": {
   "display_name": "Python 3",
   "language": "python",
   "name": "python3"
  },
  "language_info": {
   "codemirror_mode": {
    "name": "ipython",
    "version": 3
   },
   "file_extension": ".py",
   "mimetype": "text/x-python",
   "name": "python",
   "nbconvert_exporter": "python",
   "pygments_lexer": "ipython3",
   "version": "3.6.4"
  }
 },
 "nbformat": 4,
 "nbformat_minor": 2
}
