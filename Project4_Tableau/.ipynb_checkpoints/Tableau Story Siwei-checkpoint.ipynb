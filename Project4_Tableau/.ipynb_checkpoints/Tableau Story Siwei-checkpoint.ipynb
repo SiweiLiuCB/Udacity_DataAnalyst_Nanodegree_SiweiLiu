{
 "cells": [
  {
   "cell_type": "markdown",
   "metadata": {},
   "source": [
    "# Create a Tableau Story: Flights Data \n",
    "\n",
    "[Innitial Tableau Story Siwei Liu](https://public.tableau.com/profile/erika.l8376#!/vizhome/InitialTableauStorySW_Liu/Story1?publish=yes) \n",
    "\n",
    "\n",
    "[Final Tableau Story Siwei Liu](https://public.tableau.com/profile/erika.l8376#!/vizhome/FinalTableauStorySW_Liu/Story1?publish=yes)"
   ]
  },
  {
   "cell_type": "markdown",
   "metadata": {},
   "source": [
    "# Summary\n",
    "The flights dataset contains information of the domestic flights in the United States in 2008. And the visualization I created mainly focuses on the delays of these flights: the causes of delays, the total minutes of delay, the airline that has the severest delay, etc. I used a Tableau story to explain my insights."
   ]
  },
  {
   "cell_type": "markdown",
   "metadata": {},
   "source": [
    "# Design\n",
    "\n",
    "- The Tableau story I created is focused on the cause of flights delay.\n",
    "- I mainly used bar graphs to show differences in time and count between different airlines, airports,etc, because length change is one of the most obvious changes that people can easily identify.\n",
    "- I also reated a route map to explore flight delay situation of different route.\n",
    "- For the Carrier Delay, I put the average Carrier Delayed time on the y-axis, and number of Carrier Delay cases on the x-axis, so I can compare multiple variables on the same graph.\n",
    "- At the beginning, I started with a question to involve the audience.\n",
    "- Changes made according to the feedback:\n",
    "    -  Changed the 'Dest' list to single value dropdown list.\n",
    "    -  Changed all the n(XXX Delay) to Number of XXX Delay. For example, I changed the label n(NAS Delay) to Number of NAS Delay.\n",
    "    - Changed the label 'Carrier Delay(min)' to 'Carrier Delay' to make it consistent with other labels.\n",
    "    - I put more explanations in captions."
   ]
  },
  {
   "cell_type": "markdown",
   "metadata": {},
   "source": [
    "# Feedback\n",
    "\n",
    "- On the route map page, it is better to change to 'Dest' (on the upper right corner) to single value dropdown list, save some space and can make the graph much clearer.\n",
    "- Some labels not clearly explained, e.g.: n(NAS Delay) on the bottom of NAS Delay page.\n",
    "- Label inconsistency issue in 'Cause of Delay and Their Total Delay Time' graph.\n",
    "- I think more explanation will be helpful for the audience to understand the insights you are trying to provide."
   ]
  },
  {
   "cell_type": "markdown",
   "metadata": {},
   "source": [
    "# Resources\n",
    "- http://aspmhelp.faa.gov/index.php/Types_of_Delay#Late_Arrival_Delay\n",
    "- http://stat-computing.org/dataexpo/2009/the-data.html"
   ]
  },
  {
   "cell_type": "markdown",
   "metadata": {},
   "source": [
    "# Data Files\n",
    "[2008.csv](http://stat-computing.org/dataexpo/2009/the-data.html)\n",
    "(Directly csv file submission failed because the size exceeds 500MB, above link is the original website that I downloaded the data, the downloadable link of my 2008.csv file is in the middle of the website, sorry for the inconvinience)"
   ]
  }
 ],
 "metadata": {
  "kernelspec": {
   "display_name": "Python 3",
   "language": "python",
   "name": "python3"
  },
  "language_info": {
   "codemirror_mode": {
    "name": "ipython",
    "version": 3
   },
   "file_extension": ".py",
   "mimetype": "text/x-python",
   "name": "python",
   "nbconvert_exporter": "python",
   "pygments_lexer": "ipython3",
   "version": "3.6.4"
  }
 },
 "nbformat": 4,
 "nbformat_minor": 2
}
